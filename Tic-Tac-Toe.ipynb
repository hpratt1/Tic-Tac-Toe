{
 "cells": [
  {
   "cell_type": "code",
   "execution_count": 7,
   "metadata": {},
   "outputs": [],
   "source": [
    "from board import Board\n",
    "from player import Player"
   ]
  },
  {
   "cell_type": "code",
   "execution_count": 8,
   "metadata": {},
   "outputs": [],
   "source": [
    "class Human_Game: \n",
    "    \n",
    "    def __init__(self):\n",
    "    \n",
    "        self.board = Board()\n",
    "        self.player1 = Player('X', 1)\n",
    "        self.player2 = Player('O', 2)\n",
    "        self.turn = 1\n",
    "        self.round = 1\n",
    "        \n",
    "    def display_board(self):\n",
    "        self.board.display()\n",
    "    \n",
    "    def getTurn(self):\n",
    "        return self.turn\n",
    "    \n",
    "    def switchTurn(self):\n",
    "        turn = self.turn\n",
    "        if turn == 1:\n",
    "            self.turn = 2\n",
    "        else:\n",
    "            self.turn = 1\n",
    "    \n",
    "            \n",
    "    def take_turn(self):\n",
    "        turn = self.turn\n",
    "        print(\"Player \" + str(turn) + \" Move: \")\n",
    "        row = int(input(\"Row Number(0-2): \"))\n",
    "        col = int(input(\"Column Number(0-2): \"))\n",
    "        while (self.board.check_valid_move(row, col) == False):\n",
    "            print(\"Invalid Entry. Try Again.\")\n",
    "            row = int(input(\"Row Number(0-2): \"))\n",
    "            col = int(input(\"Column Number(0-2): \"))\n",
    "        if turn == 1:\n",
    "            symbol = self.player1.getSymbol()\n",
    "        else: \n",
    "            symbol = self.player2.getSymbol()\n",
    "        if symbol == 'X':\n",
    "            \n",
    "                self.board.insert_X(row, col)\n",
    "        else:\n",
    "                self.board.insert_O(row, col)\n",
    "        self.switchTurn()\n",
    "    \n",
    "    def check_winner(self):\n",
    "        return self.board.check_winning_board()\n",
    "    \n",
    "    def play_game(self):\n",
    "        self.display_board()\n",
    "        while(self.check_winner() == False):\n",
    "            self.take_turn()\n",
    "            self.display_board()\n",
    "        self.switchTurn()\n",
    "        winner_num = self.getTurn()\n",
    "        print(\"Player \" + str(winner_num) + \" Wins!\")"
   ]
  },
  {
   "cell_type": "code",
   "execution_count": 9,
   "metadata": {},
   "outputs": [],
   "source": [
    "game = Human_Game()\n"
   ]
  },
  {
   "cell_type": "code",
   "execution_count": 17,
   "metadata": {},
   "outputs": [],
   "source": [
    "l = [['0', '-'], ['-', '-']]"
   ]
  },
  {
   "cell_type": "code",
   "execution_count": 19,
   "metadata": {},
   "outputs": [
    {
     "data": {
      "text/plain": [
       "True"
      ]
     },
     "execution_count": 19,
     "metadata": {},
     "output_type": "execute_result"
    }
   ],
   "source": [
    "'0' not in l"
   ]
  },
  {
   "cell_type": "code",
   "execution_count": 16,
   "metadata": {},
   "outputs": [
    {
     "name": "stdout",
     "output_type": "stream",
     "text": [
      "['-', '-']\n"
     ]
    }
   ],
   "source": [
    "print (l[0])"
   ]
  },
  {
   "cell_type": "code",
   "execution_count": null,
   "metadata": {},
   "outputs": [],
   "source": []
  }
 ],
 "metadata": {
  "kernelspec": {
   "display_name": "Python 3",
   "language": "python",
   "name": "python3"
  },
  "language_info": {
   "codemirror_mode": {
    "name": "ipython",
    "version": 3
   },
   "file_extension": ".py",
   "mimetype": "text/x-python",
   "name": "python",
   "nbconvert_exporter": "python",
   "pygments_lexer": "ipython3",
   "version": "3.7.3"
  }
 },
 "nbformat": 4,
 "nbformat_minor": 2
}
